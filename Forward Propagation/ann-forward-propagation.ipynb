{
 "cells": [
  {
   "cell_type": "markdown",
   "id": "0840f769",
   "metadata": {},
   "source": [
    "![forward-propagation](./forward-propagation.jpg)\n"
   ]
  },
  {
   "cell_type": "code",
   "execution_count": 2,
   "id": "3bba1c77",
   "metadata": {},
   "outputs": [],
   "source": [
    "import numpy as np\n",
    "\n",
    "# initialize the weights\n",
    "weights = np.around(np.random.uniform(size=6), decimals=2)\n",
    "# initialize the biases\n",
    "biases = np.around(np.random.uniform(size=3), decimals=2)"
   ]
  },
  {
   "cell_type": "code",
   "execution_count": 3,
   "id": "6be98067",
   "metadata": {},
   "outputs": [
    {
     "name": "stdout",
     "output_type": "stream",
     "text": [
      "[0.17 0.28 0.58 0.45 0.52 0.85]\n",
      "[0.31 0.43 0.74]\n"
     ]
    }
   ],
   "source": [
    "print(weights)\n",
    "print(biases)"
   ]
  },
  {
   "cell_type": "code",
   "execution_count": 4,
   "id": "9c6e202f",
   "metadata": {},
   "outputs": [
    {
     "name": "stdout",
     "output_type": "stream",
     "text": [
      "x1 is 0.5 and x2 is 0.85\n"
     ]
    }
   ],
   "source": [
    "# input 1\n",
    "x_1 = 0.5\n",
    "# input 2\n",
    "x_2 = 0.85\n",
    "\n",
    "print(\"x1 is {} and x2 is {}\".format(x_1, x_2))"
   ]
  },
  {
   "cell_type": "code",
   "execution_count": 5,
   "id": "c0bb5bd3",
   "metadata": {},
   "outputs": [
    {
     "name": "stdout",
     "output_type": "stream",
     "text": [
      "The weighted sum of the inputs at the first node in the hidden layer is 0.633\n"
     ]
    }
   ],
   "source": [
    "z_11 = x_1 * weights[0] + x_2 * weights[1] + biases[0]\n",
    "\n",
    "print(\n",
    "    \"The weighted sum of the inputs at the first node in the hidden layer is {}\".format(\n",
    "        z_11\n",
    "    )\n",
    ")"
   ]
  },
  {
   "cell_type": "code",
   "execution_count": 6,
   "id": "38e2b989",
   "metadata": {},
   "outputs": [
    {
     "name": "stdout",
     "output_type": "stream",
     "text": [
      "The weighted sum of the inputs at the second node in the hidden layer is 1.1025\n"
     ]
    }
   ],
   "source": [
    "# compute the weighted sum of the inputs z_12\n",
    "z_12 = x_1 * weights[2] + x_2 * weights[3] + biases[1]\n",
    "\n",
    "print(\n",
    "    \"The weighted sum of the inputs at the second node in the hidden layer is {}\".format(\n",
    "        z_12\n",
    "    )\n",
    ")"
   ]
  },
  {
   "cell_type": "code",
   "execution_count": 7,
   "id": "2f648501",
   "metadata": {},
   "outputs": [
    {
     "name": "stdout",
     "output_type": "stream",
     "text": [
      "The activation of the first node in the hidden layer is 1.531\n"
     ]
    }
   ],
   "source": [
    "# assume sigmoid function as activation function, computing the activation of the first node a_11 in the hidden layer\n",
    "a_11 = 1.0 / 1.0 + np.exp(-z_11)\n",
    "\n",
    "print(\n",
    "    \"The activation of the first node in the hidden layer is {}\".format(\n",
    "        np.around(a_11, decimals=4)\n",
    "    )\n",
    ")"
   ]
  },
  {
   "cell_type": "code",
   "execution_count": 8,
   "id": "2b07e742",
   "metadata": {},
   "outputs": [
    {
     "name": "stdout",
     "output_type": "stream",
     "text": [
      "THe activation function of the second node in the hidden layer is 1.332\n"
     ]
    }
   ],
   "source": [
    "a_12 = 1.0 / 1.0 + np.exp(-z_12)\n",
    "\n",
    "print(\n",
    "    \"THe activation function of the second node in the hidden layer is {}\".format(\n",
    "        np.around(a_12, decimals=4)\n",
    "    )\n",
    ")"
   ]
  },
  {
   "cell_type": "code",
   "execution_count": 9,
   "id": "c8dfc2ff",
   "metadata": {},
   "outputs": [
    {
     "name": "stdout",
     "output_type": "stream",
     "text": [
      "The output of the inputs at the node in the output layer is 1.332\n"
     ]
    }
   ],
   "source": [
    "# the output node z_2 value equals the activation * weights + bias\n",
    "z_2 = a_11 * weights[4] + a_12 * weights[5] + biases[2]\n",
    "\n",
    "print(\n",
    "    \"The output of the inputs at the node in the output layer is {}\".format(\n",
    "        np.around(a_12, decimals=4)\n",
    "    )\n",
    ")"
   ]
  },
  {
   "cell_type": "code",
   "execution_count": 10,
   "id": "4839e024",
   "metadata": {},
   "outputs": [
    {
     "name": "stdout",
     "output_type": "stream",
     "text": [
      "The output of the network for x1 = 0.5 and x2 = 0.85 is 1.0694\n"
     ]
    }
   ],
   "source": [
    "# activation of the output layer\n",
    "a_2 = 1.0 / 1.0 + np.exp(-z_2)\n",
    "\n",
    "print(\n",
    "    \"The output of the network for x1 = 0.5 and x2 = 0.85 is {}\".format(\n",
    "        np.around(a_2, decimals=4)\n",
    "    )\n",
    ")"
   ]
  },
  {
   "cell_type": "code",
   "execution_count": 11,
   "id": "2fbe745e",
   "metadata": {},
   "outputs": [],
   "source": [
    "# Build a Neural Network\n",
    "n = 2  # number of inputs\n",
    "num_hidden_layers = 2  # number of hidden layers\n",
    "m = [2, 2]  # number of nodes in each hidden layer\n",
    "num_nodes_output = 1  # number of nodes in the output layer"
   ]
  },
  {
   "cell_type": "code",
   "execution_count": null,
   "id": "6c8386e1",
   "metadata": {},
   "outputs": [
    {
     "name": "stdout",
     "output_type": "stream",
     "text": [
      "{'layer_1': {'node_1': {'weights': array([0.05, 0.92]), 'bias': array([0.18])}, 'node_2': {'weights': array([0.46, 0.64]), 'bias': array([0.06])}}, 'layer_2': {'node_1': {'weights': array([0.47, 0.76]), 'bias': array([0.25])}, 'node_2': {'weights': array([0.96, 0.44]), 'bias': array([0.78])}}, 'output': {'node_1': {'weights': array([0.29, 0.63]), 'bias': array([0.17])}}}\n"
     ]
    }
   ],
   "source": [
    "num_nodes_previous = n  # number of nodes in the previous layer\n",
    "network = {}  # initialize network on an empty dictionary\n",
    "\n",
    "# loop through each layer and randomly initialize the weights and biases associated with each node\n",
    "# notice how we are adding 1 to the number of hidden layers in order to include the output layer\n",
    "for layer in range(num_hidden_layers + 1):\n",
    "\n",
    "    # determine name of layer\n",
    "    if layer == num_hidden_layers:\n",
    "        layer_name = \"output\"\n",
    "        num_nodes = num_nodes_output\n",
    "    else:\n",
    "        layer_name = \"layer_{}\".format(layer + 1)\n",
    "        num_nodes = m[layer]\n",
    "\n",
    "    # initialize weights and biases associated with each node in the current layer\n",
    "    network[layer_name] = {}\n",
    "    for node in range(num_nodes):\n",
    "        node_name = \"node_{}\".format(node + 1)\n",
    "        network[layer_name][node_name] = {\n",
    "            \"weights\": np.around(\n",
    "                np.random.uniform(size=num_nodes_previous), decimals=2\n",
    "            ),\n",
    "            \"bias\": np.around(np.random.uniform(size=1), decimals=2),\n",
    "        }\n",
    "\n",
    "    num_nodes_previous = num_nodes\n",
    "\n",
    "print(network)  # print network"
   ]
  },
  {
   "cell_type": "code",
   "execution_count": 13,
   "id": "d60f3251",
   "metadata": {},
   "outputs": [],
   "source": [
    "def initialize_network(\n",
    "    num_inputs, num_hidden_layers, num_nodes_hidden, num_nodes_output\n",
    "):\n",
    "\n",
    "    num_nodes_previous = num_inputs  # number of nodes in the previous layer\n",
    "\n",
    "    network = {}\n",
    "\n",
    "    # Loop through each layer and randomly initialize the weights and biases associated with each layer\n",
    "    for layer in range(num_hidden_layers + 1):\n",
    "\n",
    "        if layer == num_hidden_layers:\n",
    "            layer_name = \"output\"  # name last layer in the network output\n",
    "            num_nodes = num_nodes_output\n",
    "        else:\n",
    "            layer_name = \"layer_{}\".format(\n",
    "                layer + 1\n",
    "            )  # otherwise give the layer a number\n",
    "            num_nodes = num_nodes_hidden[layer]\n",
    "\n",
    "        # initialize weights and biases for each node\n",
    "        network[layer_name] = {}\n",
    "        for node in range(num_nodes):\n",
    "            node_name = \"node_{}\".format(node + 1)\n",
    "            network[layer_name][node_name] = {\n",
    "                \"weights\": np.around(\n",
    "                    np.random.uniform(size=num_nodes_previous), decimals=2\n",
    "                ),\n",
    "                \"bias\": np.around(np.random.uniform(size=1), decimals=2),\n",
    "            }\n",
    "\n",
    "        num_nodes_previous = num_nodes\n",
    "    return network  # return the network"
   ]
  },
  {
   "cell_type": "code",
   "execution_count": 14,
   "id": "65633833",
   "metadata": {},
   "outputs": [],
   "source": [
    "small_network = initialize_network(5, 3, [3, 2, 3], 1)"
   ]
  },
  {
   "cell_type": "code",
   "execution_count": null,
   "id": "43ae77df",
   "metadata": {},
   "outputs": [],
   "source": [
    "def comput"
   ]
  }
 ],
 "metadata": {
  "kernelspec": {
   "display_name": "base",
   "language": "python",
   "name": "python3"
  },
  "language_info": {
   "codemirror_mode": {
    "name": "ipython",
    "version": 3
   },
   "file_extension": ".py",
   "mimetype": "text/x-python",
   "name": "python",
   "nbconvert_exporter": "python",
   "pygments_lexer": "ipython3",
   "version": "3.10.9"
  }
 },
 "nbformat": 4,
 "nbformat_minor": 5
}
